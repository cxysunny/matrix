{
 "cells": [
  {
   "cell_type": "code",
   "execution_count": 37,
   "id": "36a7206c",
   "metadata": {},
   "outputs": [],
   "source": [
    "import numpy as np #引入numpy"
   ]
  },
  {
   "cell_type": "code",
   "execution_count": 38,
   "id": "c104e518",
   "metadata": {},
   "outputs": [],
   "source": [
    "a=np.array([[1,1],[2,2]]) #创建矩阵a"
   ]
  },
  {
   "cell_type": "code",
   "execution_count": 39,
   "id": "cf60a8f6",
   "metadata": {},
   "outputs": [],
   "source": [
    "b=np.array([[1,0],[0,1]]) #创建矩阵b"
   ]
  },
  {
   "cell_type": "code",
   "execution_count": 40,
   "id": "6ed4601a",
   "metadata": {},
   "outputs": [
    {
     "name": "stdout",
     "output_type": "stream",
     "text": [
      "[[1 1]\n",
      " [2 2]]\n"
     ]
    }
   ],
   "source": [
    "print(a) #打印a"
   ]
  },
  {
   "cell_type": "code",
   "execution_count": 41,
   "id": "43a7efe2",
   "metadata": {},
   "outputs": [
    {
     "name": "stdout",
     "output_type": "stream",
     "text": [
      "[[0 1]\n",
      " [2 1]]\n"
     ]
    }
   ],
   "source": [
    "print(a-b) #打印a-b"
   ]
  },
  {
   "cell_type": "code",
   "execution_count": 42,
   "id": "e2875e94",
   "metadata": {},
   "outputs": [
    {
     "name": "stdout",
     "output_type": "stream",
     "text": [
      "[[1 0]\n",
      " [0 2]]\n"
     ]
    }
   ],
   "source": [
    "print(a*b) #打印矩阵a*b"
   ]
  },
  {
   "cell_type": "markdown",
   "id": "b56815b4",
   "metadata": {},
   "source": []
  }
 ],
 "metadata": {
  "kernelspec": {
   "display_name": "Python 3 (ipykernel)",
   "language": "python",
   "name": "python3"
  },
  "language_info": {
   "codemirror_mode": {
    "name": "ipython",
    "version": 3
   },
   "file_extension": ".py",
   "mimetype": "text/x-python",
   "name": "python",
   "nbconvert_exporter": "python",
   "pygments_lexer": "ipython3",
   "version": "3.8.10"
  }
 },
 "nbformat": 4,
 "nbformat_minor": 5
}
